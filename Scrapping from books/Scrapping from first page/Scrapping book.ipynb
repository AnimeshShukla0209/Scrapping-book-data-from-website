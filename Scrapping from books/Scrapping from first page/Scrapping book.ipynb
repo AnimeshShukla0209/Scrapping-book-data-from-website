{
 "cells": [
  {
   "cell_type": "code",
   "execution_count": 1,
   "id": "c87e49a9",
   "metadata": {},
   "outputs": [],
   "source": [
    "import pandas as pd\n",
    "import numpy as np\n",
    "from tqdm import tqdm\n",
    "import requests\n",
    "from bs4 import BeautifulSoup"
   ]
  },
  {
   "cell_type": "code",
   "execution_count": 2,
   "id": "c981e8a3",
   "metadata": {},
   "outputs": [],
   "source": [
    "link = \"https://books.toscrape.com/\"\n",
    "res = requests.get(link)\n",
    "soup  = BeautifulSoup(res.text,\"html.parser\")\n",
    "\n"
   ]
  },
  {
   "cell_type": "code",
   "execution_count": 20,
   "id": "b01f1130",
   "metadata": {},
   "outputs": [],
   "source": [
    "data = []\n",
    "for sp in soup.find_all(\"li\",class_ = \"col-xs-6 col-sm-4 col-md-3 col-lg-3\"):\n",
    "    title = sp.find_all(\"a\")[-1].get(\"title\")\n",
    "    book_link = \"https://books.toscrape.com/\" + sp.find_all(\"a\")[-1].get(\"href\")\n",
    "    img_link = \"https://books.toscrape.com/\" + sp.find(\"img\").get(\"src\")\n",
    "    price = sp.find(\"p\",class_=\"price_color\").text[2:]\n",
    "    availability  = sp.find(\"p\",class_=\"instock availability\").text.strip()\n",
    "    rating  = sp.find(\"p\").get(\"class\")[-1]\n",
    "    \n",
    "    data.append([title,book_link,img_link,price,availability,rating])\n",
    "    \n",
    "    "
   ]
  },
  {
   "cell_type": "code",
   "execution_count": 23,
   "id": "e0fed91f",
   "metadata": {},
   "outputs": [],
   "source": [
    "df = pd.DataFrame(data,columns=([\"title\",\"book_link\",\"img_link\",\"price\",\"availability\",\"rating\"]))\n",
    "df.to_csv(\"Books_Data_First_Page.csv\",index=False)"
   ]
  },
  {
   "cell_type": "code",
   "execution_count": null,
   "id": "07cd231b",
   "metadata": {},
   "outputs": [],
   "source": []
  }
 ],
 "metadata": {
  "kernelspec": {
   "display_name": "Python 3 (ipykernel)",
   "language": "python",
   "name": "python3"
  },
  "language_info": {
   "codemirror_mode": {
    "name": "ipython",
    "version": 3
   },
   "file_extension": ".py",
   "mimetype": "text/x-python",
   "name": "python",
   "nbconvert_exporter": "python",
   "pygments_lexer": "ipython3",
   "version": "3.10.9"
  }
 },
 "nbformat": 4,
 "nbformat_minor": 5
}
